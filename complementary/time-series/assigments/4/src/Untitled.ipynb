{
 "cells": [
  {
   "cell_type": "code",
   "execution_count": 1,
   "metadata": {},
   "outputs": [],
   "source": [
    "import numpy as np\n",
    "import scipy.stats as st\n",
    "import pandas as pd\n",
    "import matplotlib.pyplot as plt"
   ]
  },
  {
   "cell_type": "code",
   "execution_count": 2,
   "metadata": {},
   "outputs": [],
   "source": [
    "def autocov(x, j):\n",
    "    s = 0\n",
    "    mean = np.mean(x)\n",
    "    n = np.size(x)\n",
    "    for t in range(j, n):\n",
    "        s += (x[t] - mean)*(x[t-j] - mean)\n",
    "    return s/(n - 1)\n",
    "\n",
    "def autocorr(x, j):\n",
    "    return autocov(x, j)/autocov(x, 0)"
   ]
  },
  {
   "cell_type": "code",
   "execution_count": 12,
   "metadata": {},
   "outputs": [
    {
     "name": "stdout",
     "output_type": "stream",
     "text": [
      "rho_1 : 0.45454545454545453\n",
      "rho_2 : -0.25\n",
      "rho_3 : -0.5909090909090908\n"
     ]
    }
   ],
   "source": [
    "x = [2, 3, 1, -1, -4, -2, 0, 2, 1, -2]\n",
    "rhos = []\n",
    "for j in range(1, 4):\n",
    "    rhos.append(autocorr(x, j))\n",
    "    print(\"rho_\"+str(j), \":\", autocorr(x, j))\n",
    "rhos.append(-1)"
   ]
  },
  {
   "cell_type": "code",
   "execution_count": 15,
   "metadata": {},
   "outputs": [
    {
     "name": "stdout",
     "output_type": "stream",
     "text": [
      "[[ 1.          0.45454545 -0.25       -0.59090909]\n",
      " [ 0.45454545  1.          1.          1.        ]\n",
      " [-0.25        1.          1.          1.        ]\n",
      " [-0.59090909  1.          1.          1.        ]]\n",
      "[[ 1.          0.45454545 -0.25       -0.59090909]\n",
      " [ 0.45454545  1.          0.45454545 -0.25      ]\n",
      " [-0.25        0.45454545  1.          1.        ]\n",
      " [-0.59090909 -0.25        1.          1.        ]]\n",
      "[[ 1.          0.45454545  0.45454545 -0.59090909]\n",
      " [ 0.45454545  1.         -0.25       -0.25      ]\n",
      " [-0.25        0.45454545  1.          0.45454545]\n",
      " [-0.59090909 -0.25        0.45454545  1.        ]]\n"
     ]
    },
    {
     "data": {
      "text/plain": [
       "array([[ 1.        ,  0.45454545,  0.45454545, -0.59090909],\n",
       "       [ 0.45454545,  1.        , -0.25      , -0.25      ],\n",
       "       [-0.25      ,  0.45454545,  1.        ,  0.45454545],\n",
       "       [-0.59090909, -0.25      ,  0.45454545,  1.        ]])"
      ]
     },
     "execution_count": 15,
     "metadata": {},
     "output_type": "execute_result"
    }
   ],
   "source": [
    "# rhos : (n,1)\n",
    "def facpe(x, rhos, j):\n",
    "    A = np.ones((j, j))\n",
    "    for k in range(j-1):\n",
    "        A[:k, k] = rhos[:k]\n",
    "        if k < j-1:\n",
    "            A[(k+1):, k] = rhos[:-(k+1)]\n",
    "            A[k, (k+1):] = rhos[:-(k+1)]\n",
    "            print(A)\n",
    "    return A\n",
    "\n",
    "facpe(x, rhos, 4)"
   ]
  },
  {
   "cell_type": "code",
   "execution_count": 76,
   "metadata": {},
   "outputs": [
    {
     "name": "stdout",
     "output_type": "stream",
     "text": [
      "rho_11 : 0.45454545454545453\n",
      "rho_22 : -0.5755208333333333\n",
      "rho_33 : -0.28321249302844387\n"
     ]
    }
   ],
   "source": [
    "rho_11 = rhos[0]\n",
    "print('rho_11 :', rho_11)\n",
    "\n",
    "# rho_22\n",
    "A = np.array([[1, rhos[0]], [rhos[0], 1]])\n",
    "b = np.array([[rhos[0]], [rhos[1]]])\n",
    "rho_22 = np.matmul(np.linalg.inv(A), b)[1, 0]\n",
    "print('rho_22 :', rho_22)\n",
    "\n",
    "# rho_33\n",
    "A = np.array([[1, rhos[0], rhos[1]], [rhos[0], 1, rhos[0]], [rhos[1], rhos[0], 1]])\n",
    "b = np.array([[rhos[0]], [rhos[1]], [rhos[2]]])\n",
    "rho_33 = np.matmul(np.linalg.inv(A), b)[2][0]\n",
    "print('rho_33 :', rho_33)"
   ]
  },
  {
   "cell_type": "code",
   "execution_count": 42,
   "metadata": {},
   "outputs": [],
   "source": [
    "def arma11(mu, phi1, theta1, T, x0, sigma2=1):\n",
    "    e = st.norm.rvs(size=(T), loc=0, scale=sigma2**0.5)\n",
    "    xs = np.zeros(T)\n",
    "    xs[0] = x0\n",
    "    for i in range(1, len(xs)):\n",
    "        xs[i] = mu + phi1 * xs[i-1] + e[i] - theta1 * e[i-1] \n",
    "    return xs\n",
    "\n",
    "def diff1(x):\n",
    "    xs = np.zeros((x.size-1))\n",
    "    for i in range(1, xs.size):\n",
    "        xs[i-1] = x[i] - x[i-1]\n",
    "    return xs"
   ]
  },
  {
   "cell_type": "code",
   "execution_count": 50,
   "metadata": {},
   "outputs": [],
   "source": [
    "xs = arma11(0, 1, 0.6, 500, 1)\n",
    "diffxs = diff1(xs)"
   ]
  },
  {
   "cell_type": "code",
   "execution_count": 51,
   "metadata": {},
   "outputs": [
    {
     "data": {
      "text/plain": [
       "<matplotlib.axes._subplots.AxesSubplot at 0x18add359640>"
      ]
     },
     "execution_count": 51,
     "metadata": {},
     "output_type": "execute_result"
    },
    {
     "data": {
      "image/png": "[encoded data removed]",
      "text/plain": [
       "<Figure size 432x288 with 1 Axes>"
      ]
     },
     "metadata": {
      "needs_background": "light"
     },
     "output_type": "display_data"
    }
   ],
   "source": [
    "pd.plotting.autocorrelation_plot(diffxs)"
   ]
  },
  {
   "cell_type": "code",
   "execution_count": 52,
   "metadata": {},
   "outputs": [
    {
     "data": {
      "text/plain": [
       "<matplotlib.axes._subplots.AxesSubplot at 0x18add3b67c0>"
      ]
     },
     "execution_count": 52,
     "metadata": {},
     "output_type": "execute_result"
    },
    {
     "data": {
      "image/png": "[encoded data removed]",
      "text/plain": [
       "<Figure size 432x288 with 1 Axes>"
      ]
     },
     "metadata": {
      "needs_background": "light"
     },
     "output_type": "display_data"
    }
   ],
   "source": [
    "pd.plotting.autocorrelation_plot(xs)"
   ]
  },
  {
   "cell_type": "code",
   "execution_count": 8,
   "metadata": {},
   "outputs": [],
   "source": [
    "a = [1, 2, 3, 4]"
   ]
  },
  {
   "cell_type": "code",
   "execution_count": 9,
   "metadata": {},
   "outputs": [
    {
     "data": {
      "text/plain": [
       "[1, 2]"
      ]
     },
     "execution_count": 9,
     "metadata": {},
     "output_type": "execute_result"
    }
   ],
   "source": [
    "a[:-2]"
   ]
  },
  {
   "cell_type": "code",
   "execution_count": null,
   "metadata": {},
   "outputs": [],
   "source": [
    "A = np.ones((4, 4))"
   ]
  }
 ],
 "metadata": {
  "kernelspec": {
   "display_name": "Python 3",
   "language": "python",
   "name": "python3"
  },
  "language_info": {
   "codemirror_mode": {
    "name": "ipython",
    "version": 3
   },
   "file_extension": ".py",
   "mimetype": "text/x-python",
   "name": "python",
   "nbconvert_exporter": "python",
   "pygments_lexer": "ipython3",
   "version": "3.8.2"
  }
 },
 "nbformat": 4,
 "nbformat_minor": 4
}
