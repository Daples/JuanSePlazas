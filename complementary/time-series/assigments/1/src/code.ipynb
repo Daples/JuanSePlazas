{
 "cells": [
  {
   "cell_type": "code",
   "execution_count": 19,
   "metadata": {},
   "outputs": [],
   "source": [
    "import numpy as np\n",
    "import scipy.stats as st"
   ]
  },
  {
   "cell_type": "code",
   "execution_count": 1,
   "metadata": {},
   "outputs": [],
   "source": [
    "# Parameters\n",
    "mu = 1\n",
    "psi = 0.6\n",
    "sigma2 = 2"
   ]
  },
  {
   "cell_type": "code",
   "execution_count": 11,
   "metadata": {},
   "outputs": [],
   "source": [
    "def ar1(T):\n",
    "    e = st.norm.rvs(size=(T), loc=0, scale=sigma2 ** 0.5)\n",
    "    xs = np.zeros(T)\n",
    "    xs[0] = mu\n",
    "    for i in range(1, len(xs)):\n",
    "        xs[i] = mu + psi * xs[i-1] + e[i]\n",
    "    return xs\n",
    "\n",
    "xs1 = ar1(100)\n",
    "xs2 = ar1(5000)"
   ]
  },
  {
   "cell_type": "code",
   "execution_count": 18,
   "metadata": {},
   "outputs": [
    {
     "name": "stdout",
     "output_type": "stream",
     "text": [
      "mean1 =  2.2891997389346592\n",
      "var1 =  2.9253132392912633\n"
     ]
    }
   ],
   "source": [
    "print('mean1 =', xs1.mean())\n",
    "print('var1 =', xs1.var(ddof=1))"
   ]
  },
  {
   "cell_type": "code",
   "execution_count": 17,
   "metadata": {
    "scrolled": false
   },
   "outputs": [
    {
     "name": "stdout",
     "output_type": "stream",
     "text": [
      "mean2 =  2.551018843628529\n",
      "var2 = 3.146108508322416\n"
     ]
    }
   ],
   "source": [
    "print('mean2 =', xs2.mean())\n",
    "print('var2 =', xs2.var(ddof=1))"
   ]
  },
  {
   "cell_type": "code",
   "execution_count": 2,
   "metadata": {},
   "outputs": [
    {
     "data": {
      "text/plain": [
       "3.125"
      ]
     },
     "execution_count": 2,
     "metadata": {},
     "output_type": "execute_result"
    }
   ],
   "source": [
    "sigma2/(1 - psi ** 2)"
   ]
  },
  {
   "cell_type": "code",
   "execution_count": null,
   "metadata": {},
   "outputs": [],
   "source": []
  }
 ],
 "metadata": {
  "kernelspec": {
   "display_name": "Python 3",
   "language": "python",
   "name": "python3"
  },
  "language_info": {
   "codemirror_mode": {
    "name": "ipython",
    "version": 3
   },
   "file_extension": ".py",
   "mimetype": "text/x-python",
   "name": "python",
   "nbconvert_exporter": "python",
   "pygments_lexer": "ipython3",
   "version": "3.8.2"
  }
 },
 "nbformat": 4,
 "nbformat_minor": 4
}
