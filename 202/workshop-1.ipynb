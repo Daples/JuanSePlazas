{
 "cells": [
  {
   "cell_type": "code",
   "execution_count": 21,
   "metadata": {
    "collapsed": false
   },
   "outputs": [],
   "source": [
    "import matplotlib\n",
    "import matplotlib.pyplot as plt\n",
    "import numpy as np\n",
    "from matplotlib import cm, colors\n",
    "\n",
    "eps = 1e-5\n",
    "%matplotlib inline\n",
    "matplotlib.rcParams[\"figure.facecolor\"] = \"white\"\n",
    "matplotlib.rcParams[\"axes.facecolor\"] = \"white\"\n",
    "matplotlib.rcParams[\"savefig.facecolor\"] = \"white\"\n",
    "\n",
    "dir_fig = lambda x: \"figs/\" + x"
   ]
  },
  {
   "cell_type": "code",
   "execution_count": 22,
   "metadata": {
    "collapsed": false
   },
   "outputs": [],
   "source": [
    "n = 10000\n",
    "mu = np.array([0, 0])\n",
    "sigma = np.array([[1, 0], [0, 1]])\n",
    "\n",
    "data = np.random.multivariate_normal(mu, sigma, size=n)"
   ]
  },
  {
   "cell_type": "code",
   "execution_count": 23,
   "metadata": {
    "collapsed": false
   },
   "outputs": [],
   "source": [
    "def distance_r2(data, mu):\n",
    "    distance = np.zeros(data.shape[0])\n",
    "    for i in range(data.shape[0]):\n",
    "        x = data[i, :]\n",
    "        aux = np.power(x, 2) + np.power(mu, 2)\n",
    "        if (np.abs(aux[0] - aux[1]) < eps):\n",
    "            distance[i] = np.sqrt(np.power(x[0] - mu[0], 2) + np.power(x[1] - mu[1], 2))\n",
    "        else:\n",
    "            distance[i] = np.sqrt(aux[0]) + np.sqrt(aux[1])\n",
    "    return distance\n",
    "\n",
    "def distance_eucl(data, mu):\n",
    "    diff = data - mu\n",
    "    return np.sqrt(np.power(diff, 2).sum(-1))\n",
    "\n",
    "def distance_p(p):\n",
    "    def aux_distance(data, mu):\n",
    "        diff = np.abs(data - mu)\n",
    "        return np.power(np.power(diff, p).sum(-1), 1/p)\n",
    "    def mahalanobis(data, mu, icov):\n",
    "        diff = data - mu\n",
    "        return np.sqrt((diff.dot(icov) * diff).sum(-1))\n",
    "    if p == 0:\n",
    "        return mahalanobis\n",
    "    return aux_distance"
   ]
  },
  {
   "cell_type": "code",
   "execution_count": 24,
   "metadata": {
    "collapsed": false
   },
   "outputs": [
    {
     "data": {
      "image/png": "[encoded data removed]",
      "text/plain": [
       "<Figure size 432x288 with 1 Axes>"
      ]
     },
     "metadata": {},
     "output_type": "display_data"
    }
   ],
   "source": [
    "# Distances and percentile\n",
    "distances = distance_r2(data, mu)\n",
    "perc_90 = np.percentile(distances, 90)\n",
    "\n",
    "# Data separation\n",
    "data_small = data[distances <= perc_90, :]\n",
    "data_big = data[distances > perc_90, :]\n",
    "\n",
    "# Plotting\n",
    "plt.scatter(data_small[:, 0], data_small[:, 1], color='k', s=4)\n",
    "plt.scatter(data_big[:, 0], data_big[:, 1], color='r', s=4)\n",
    "plt.savefig(dir_fig(\"4.pdf\"), bbox_inches='tight')\n",
    "plt.show()"
   ]
  },
  {
   "cell_type": "code",
   "execution_count": 25,
   "metadata": {
    "collapsed": false
   },
   "outputs": [],
   "source": [
    "def calculate_cost(distances, u):\n",
    "    return distances.dot(u.T).sum()\n",
    "\n",
    "def find_membership(data, k, dist, prototypes, args):\n",
    "    u = np.zeros((k, data.shape[0]))\n",
    "    distances = np.zeros((k, data.shape[0]))\n",
    "    for j in range(k):\n",
    "        distances[j, :] = dist(data, prototypes[j, :], *args)\n",
    "    indexes_min = np.argmin(distances, axis=0)\n",
    "    for j in range(u.shape[1]):\n",
    "        u[:, j] = 0\n",
    "        u[indexes_min[j], j] = 1\n",
    "\n",
    "    return u\n",
    "\n",
    "def k_means(data, k, dist, n_iter, args):\n",
    "    # Random selection of k prototypes\n",
    "    indexes = np.array(range(data.shape[0]))\n",
    "    selection = np.random.choice(indexes, size=k, replace=False)\n",
    "    prototypes = data[selection, :]\n",
    "\n",
    "    for i in range(n_iter):\n",
    "        # Find membership\n",
    "        u = find_membership(data, k, dist, prototypes, args)\n",
    "\n",
    "        # Update prototypes\n",
    "        prototypes = np.divide(u.dot(data), np.reshape(u.sum(-1), (u.shape[0], 1)))\n",
    "\n",
    "    return prototypes, find_membership(data, k, dist, prototypes, args)\n",
    "\n",
    "def plot_clusters(proto, memberships, data, fig_title):\n",
    "    color1 = plt.get_cmap('winter')\n",
    "    color_norm = colors.Normalize(vmin=0, vmax=proto.shape[0] - 1)\n",
    "    scalar_map = cm.ScalarMappable(norm=color_norm, cmap=color1)\n",
    "    for j in range(proto.shape[0]):\n",
    "        data_group = data[memberships[j, :] == 1, :]\n",
    "        color = scalar_map.to_rgba(j)\n",
    "        plt.scatter(data_group[:, 0], data_group[:, 1], color=color, s=4)\n",
    "    plt.scatter(proto[:, 0], proto[:, 1], color='k', s=8)\n",
    "    plt.savefig(dir_fig(fig_title), bbox_inches='tight')\n",
    "    plt.clf()"
   ]
  },
  {
   "cell_type": "code",
   "execution_count": 26,
   "metadata": {
    "collapsed": false
   },
   "outputs": [
    {
     "ename": "TypeError",
     "evalue": "k_means() missing 1 required positional argument: 'args'",
     "output_type": "error",
     "traceback": [
      "\u001b[0;31m\u001b[0m",
      "\u001b[0;31mTypeError\u001b[0mTraceback (most recent call last)",
      "\u001b[0;32m<ipython-input-26-ed630be4923a>\u001b[0m in \u001b[0;36m<module>\u001b[0;34m\u001b[0m\n\u001b[1;32m      1\u001b[0m \u001b[0mk\u001b[0m \u001b[0;34m=\u001b[0m \u001b[0;36m8\u001b[0m\u001b[0;34m\u001b[0m\u001b[0;34m\u001b[0m\u001b[0m\n\u001b[0;32m----> 2\u001b[0;31m \u001b[0mproto\u001b[0m\u001b[0;34m,\u001b[0m \u001b[0mmemberships\u001b[0m \u001b[0;34m=\u001b[0m \u001b[0mk_means\u001b[0m\u001b[0;34m(\u001b[0m\u001b[0mdata\u001b[0m\u001b[0;34m,\u001b[0m \u001b[0mk\u001b[0m\u001b[0;34m,\u001b[0m \u001b[0mdistance_eucl\u001b[0m\u001b[0;34m,\u001b[0m \u001b[0;36m100\u001b[0m\u001b[0;34m)\u001b[0m\u001b[0;34m\u001b[0m\u001b[0;34m\u001b[0m\u001b[0m\n\u001b[0m\u001b[1;32m      3\u001b[0m \u001b[0;34m\u001b[0m\u001b[0m\n\u001b[1;32m      4\u001b[0m \u001b[0mplot_clusters\u001b[0m\u001b[0;34m(\u001b[0m\u001b[0mproto\u001b[0m\u001b[0;34m,\u001b[0m \u001b[0mmemberships\u001b[0m\u001b[0;34m,\u001b[0m \u001b[0mdata\u001b[0m\u001b[0;34m,\u001b[0m \u001b[0;34m\"5-example-k-8.pdf\"\u001b[0m\u001b[0;34m)\u001b[0m\u001b[0;34m\u001b[0m\u001b[0;34m\u001b[0m\u001b[0m\n",
      "\u001b[0;31mTypeError\u001b[0m: k_means() missing 1 required positional argument: 'args'"
     ]
    }
   ],
   "source": [
    "k = 8\n",
    "proto, memberships = k_means(data, k, distance_eucl, 100)\n",
    "\n",
    "plot_clusters(proto, memberships, data, \"5-example-k-8.pdf\")"
   ]
  },
  {
   "cell_type": "code",
   "execution_count": 27,
   "metadata": {
    "collapsed": false
   },
   "outputs": [],
   "source": [
    "mu1, mu2, mu3 = np.array([0, 0]), np.array([1, 1]), np.array([10, 10])\n",
    "\n",
    "cov1 = np.array([[3, 0], [0, 1]])\n",
    "cov2 = np.array([[2, 0], [0, 3]])\n",
    "cov3 = np.array([[1.1, 0], [0, 2.2]])\n",
    "\n",
    "data1 = np.random.multivariate_normal(mu1, cov1, size=3000)\n",
    "data2 = np.random.multivariate_normal(mu2, cov2, size=3000)\n",
    "data3 = np.random.multivariate_normal(mu3, cov3, size=3000)\n",
    "\n",
    "mixture = np.concatenate((data1, data2, data3))"
   ]
  },
  {
   "cell_type": "code",
   "execution_count": 28,
   "metadata": {
    "collapsed": false
   },
   "outputs": [
    {
     "data": {
      "text/plain": [
       "<Figure size 432x288 with 0 Axes>"
      ]
     },
     "metadata": {},
     "output_type": "display_data"
    }
   ],
   "source": [
    "ps = [0, 1, 2]\n",
    "protos, memberships = [], []\n",
    "for p in ps:\n",
    "    if p == 0:\n",
    "        args = [np.linalg.inv(cov1)]\n",
    "    else:\n",
    "        args = []\n",
    "    proto, memb = k_means(mixture, 3, distance_p(p), 100, args)\n",
    "    protos.append(proto)\n",
    "    memberships.append(memb)\n",
    "\n",
    "for i in range(len(ps)):\n",
    "    title = \"5-{}-norm.pdf\".format(ps[i])\n",
    "    plot_clusters(protos[i], memberships[i], mixture, title)"
   ]
  },
  {
   "cell_type": "code",
   "execution_count": 29,
   "metadata": {
    "collapsed": false
   },
   "outputs": [
    {
     "data": {
      "text/plain": [
       "<Figure size 432x288 with 0 Axes>"
      ]
     },
     "metadata": {},
     "output_type": "display_data"
    }
   ],
   "source": [
    "ps = [0, 1, 2]\n",
    "protos, memberships = [], []\n",
    "cov = np.cov(data.T)\n",
    "for p in ps:\n",
    "    if p == 0:\n",
    "        args = [np.linalg.inv(cov)]\n",
    "    else:\n",
    "        args = []\n",
    "    proto, memb = k_means(mixture, 3, distance_p(p), 100, args)\n",
    "    protos.append(proto)\n",
    "    memberships.append(memb)\n",
    "\n",
    "for i in range(len(ps)):\n",
    "    title = \"5-{}-norm-est-cov.pdf\".format(ps[i])\n",
    "    plot_clusters(protos[i], memberships[i], mixture, title)"
   ]
  },
  {
   "cell_type": "code",
   "execution_count": 30,
   "metadata": {
    "collapsed": false
   },
   "outputs": [
    {
     "data": {
      "text/plain": [
       "<Figure size 432x288 with 0 Axes>"
      ]
     },
     "metadata": {},
     "output_type": "display_data"
    }
   ],
   "source": [
    "ps = [0, 1, 2]\n",
    "protos, memberships = [], []\n",
    "cov = np.cov(data.T)\n",
    "for p in ps:\n",
    "    if p == 0:\n",
    "        args = [np.linalg.inv(cov)]\n",
    "    else:\n",
    "        args = []\n",
    "    proto, memb = k_means(mixture, 8, distance_p(p), 100, args)\n",
    "    protos.append(proto)\n",
    "    memberships.append(memb)\n",
    "\n",
    "for i in range(len(ps)):\n",
    "    title = \"5-8-clust-{}-norm-est-cov.pdf\".format(ps[i])\n",
    "    plot_clusters(protos[i], memberships[i], mixture, title)"
   ]
  },
  {
   "cell_type": "code",
   "execution_count": 31,
   "metadata": {
    "collapsed": false
   },
   "outputs": [],
   "source": [
    "# Read assets data\n",
    "file = open(\"portfolio100.txt\").readlines()\n",
    "data = []\n",
    "for line in file:\n",
    "    row = []\n",
    "    acum = \"\"\n",
    "    for char in line:\n",
    "        if char != \" \":\n",
    "            acum += char\n",
    "        if char == \" \" and len(acum) != 0:\n",
    "            row.append(float(acum))\n",
    "            acum = \"\"\n",
    "    if acum != \"\":\n",
    "        row.append(float(acum))\n",
    "    data.append(row)\n",
    "\n",
    "data_port = np.array(data, dtype=np.float)"
   ]
  },
  {
   "cell_type": "code",
   "execution_count": 39,
   "metadata": {
    "collapsed": false
   },
   "outputs": [],
   "source": [
    "def binary_distances(matrix, means, method=0):\n",
    "    dists = np.zeros(matrix.shape[1])\n",
    "    for j in range(matrix.shape[1]):\n",
    "        a = 0\n",
    "        b = 0\n",
    "        c = 0\n",
    "        d = 0\n",
    "        for i in range(matrix.shape[0]):\n",
    "            if matrix[i, j] == means[j]:\n",
    "                cond = int(matrix[i, j] == 1)\n",
    "                a += cond\n",
    "                d += 1 - cond\n",
    "            else:\n",
    "                cond = int(matrix[i, j] == 1)\n",
    "                b += cond\n",
    "                c += 1 - cond\n",
    "        if method == 0:\n",
    "            dists[j] = (a*d - b*c) / (np.sqrt((a+c) * (b+d) * (a+b) * (c+d)))\n",
    "        elif method == 1:\n",
    "            dists[j] = a / (a + b + c)\n",
    "        elif method == 2:\n",
    "            dists[j] = 2*a / (2*a + b + c)\n",
    "    print(a, b, c, d)\n",
    "    return dists"
   ]
  },
  {
   "cell_type": "code",
   "execution_count": 41,
   "metadata": {
    "collapsed": false
   },
   "outputs": [
    {
     "name": "stdout",
     "output_type": "stream",
     "text": [
      "383 0 285 0\n"
     ]
    },
    {
     "data": {
      "text/plain": [
       "array([1.        , 0.57185629, 0.61826347, 0.6242515 , 0.63772455,\n",
       "       0.61676647, 0.61976048, 0.62724551, 0.58682635, 0.58532934,\n",
       "       0.54640719, 0.57185629, 0.6002994 , 0.61526946, 0.61077844,\n",
       "       0.62874251, 0.60329341, 0.60179641, 0.60778443, 0.5748503 ,\n",
       "       0.54790419, 0.58682635, 0.61377246, 0.6242515 , 0.60479042,\n",
       "       0.61976048, 0.62874251, 0.61377246, 0.64371257, 0.5988024 ,\n",
       "       0.55389222, 0.58383234, 0.60778443, 0.60628743, 0.61077844,\n",
       "       0.61826347, 0.61676647, 0.6257485 , 0.61826347, 0.61676647,\n",
       "       0.57035928, 0.59730539, 0.6242515 , 0.63473054, 0.63323353,\n",
       "       0.64820359, 0.6497006 , 0.63173653, 0.61377246, 0.59281437,\n",
       "       0.55538922, 0.57784431, 0.6002994 , 0.61227545, 0.64371257,\n",
       "       0.62724551, 0.60479042, 0.58832335, 0.61826347, 0.59730539,\n",
       "       0.57035928, 0.57634731, 0.61377246, 0.61227545, 0.60928144,\n",
       "       0.62275449, 0.6242515 , 0.63922156, 0.60928144, 0.58532934,\n",
       "       0.57035928, 0.61227545, 0.61976048, 0.62275449, 0.61976048,\n",
       "       0.61077844, 0.62125749, 0.61227545, 0.6002994 , 0.59580838,\n",
       "       0.56736527, 0.61227545, 0.59431138, 0.60628743, 0.61826347,\n",
       "       0.62724551, 0.6242515 , 0.58532934, 0.59580838, 0.5748503 ,\n",
       "       0.55688623, 0.54491018, 0.59730539, 0.59730539, 0.60628743,\n",
       "       0.62275449, 0.60179641, 0.60778443, 0.60179641, 0.59281437,\n",
       "       0.57335329])"
      ]
     },
     "execution_count": 41,
     "metadata": {},
     "output_type": "execute_result"
    }
   ],
   "source": [
    "means_port = np.mean(data_port, axis=1)\n",
    "aux = np.zeros(data_port.shape[0])\n",
    "aux[means_port > 0] = 1\n",
    "\n",
    "mat_aux = np.zeros(data_port.shape)\n",
    "mat_aux[data_port > 0] = 1\n",
    "\n",
    "binary_distances(mat_aux, aux, method=1)"
   ]
  }
 ],
 "metadata": {
  "kernelspec": {
   "argv": [
    "python",
    "-m",
    "ipykernel_launcher",
    "-f",
    "{connection_file}"
   ],
   "display_name": "Python 3",
   "env": null,
   "interrupt_mode": "signal",
   "language": "python",
   "metadata": null,
   "name": "python3"
  },
  "name": "workshop-1.ipynb"
 },
 "nbformat": 4,
 "nbformat_minor": 4
}
